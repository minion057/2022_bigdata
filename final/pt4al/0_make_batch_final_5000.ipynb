{
 "cells": [
  {
   "cell_type": "code",
   "execution_count": 1,
   "id": "e3548dbc-7003-473c-9af8-bb1d54fe2e29",
   "metadata": {},
   "outputs": [],
   "source": [
    "import torch\n",
    "import torch.nn as nn\n",
    "import torch.optim as optim\n",
    "import torch.nn.functional as F\n",
    "import torch.backends.cudnn as cudnn\n",
    "\n",
    "import torchvision\n",
    "import torchvision.transforms as T\n",
    "\n",
    "import os\n",
    "import random\n",
    "import numpy as np\n",
    "\n",
    "import string\n",
    "import glob \n",
    "from PIL import Image\n",
    "from torch.utils.data import Dataset, DataLoader\n",
    "import cv2\n",
    "from sklearn.model_selection import train_test_split\n",
    "from tqdm import tqdm\n",
    "import IPython.display as ipd"
   ]
  },
  {
   "cell_type": "markdown",
   "id": "0338add3-af39-4466-960f-47c0b20ee6cb",
   "metadata": {},
   "source": [
    "# 1 Setting"
   ]
  },
  {
   "cell_type": "markdown",
   "id": "a572b1db-bb1d-49fb-be81-f3512bbfff4f",
   "metadata": {},
   "source": [
    "## 1.1 Argument"
   ]
  },
  {
   "cell_type": "code",
   "execution_count": 2,
   "id": "70b4993b-545f-476d-b5dc-00b329bf64f8",
   "metadata": {},
   "outputs": [
    {
     "name": "stdout",
     "output_type": "stream",
     "text": [
      "cuda\n"
     ]
    }
   ],
   "source": [
    "device = 'cuda' if torch.cuda.is_available() else 'cpu'\n",
    "print(device)"
   ]
  },
  {
   "cell_type": "code",
   "execution_count": 3,
   "id": "e6b94244-52a4-41d3-9ad6-7775fc84e57b",
   "metadata": {},
   "outputs": [],
   "source": [
    "best_acc = 0 # best test acc\n",
    "start_epoch = 0 # start from epoch 0 OR checkpoint epoch\n",
    "learning_rate = 1e-4"
   ]
  },
  {
   "cell_type": "markdown",
   "id": "e93a41b1-759d-4482-bad2-562b7fbbcbcd",
   "metadata": {},
   "source": [
    "## 1.2 Data"
   ]
  },
  {
   "cell_type": "code",
   "execution_count": 4,
   "id": "2f3a9d9b-d833-4e6e-a85d-bd522f7383f8",
   "metadata": {},
   "outputs": [],
   "source": [
    "PATH_SAVE_DATASET = 'Large_Captcha_5000'"
   ]
  },
  {
   "cell_type": "code",
   "execution_count": 5,
   "id": "04573ed5-ae78-451f-8976-71079045bd72",
   "metadata": {},
   "outputs": [
    {
     "data": {
      "text/plain": [
       "62"
      ]
     },
     "execution_count": 5,
     "metadata": {},
     "output_type": "execute_result"
    }
   ],
   "source": [
    "all_letters = string.ascii_lowercase + string.digits + string.ascii_uppercase\n",
    "\n",
    "mapping = {}      # key - num    & value - letter\n",
    "mapping_inv = {}  # key - letter & value - num\n",
    "\n",
    "for i, x in enumerate(all_letters):\n",
    "    mapping[x] = i+1\n",
    "    mapping_inv[i+1] = x\n",
    "\n",
    "num_class = len(mapping)\n",
    "num_class"
   ]
  },
  {
   "cell_type": "code",
   "execution_count": 6,
   "id": "48b2fad9-c852-4e3e-9326-baad0066e448",
   "metadata": {},
   "outputs": [],
   "source": [
    "class Loader_Captcha(Dataset):\n",
    "    def __init__(self, is_train=True, transform=None):\n",
    "        self.is_train = is_train\n",
    "        self.transform = transform\n",
    "        self.img_path = glob.glob('/data/jh/datasets/Large_Captcha_Dataset/*.png')\n",
    "\n",
    "    def __len__(self):\n",
    "        return len(self.img_path)\n",
    "\n",
    "    def __getitem__(self, idx):\n",
    "        #img = cv2.imread(self.img_path[idx])\n",
    "        #img = Image.fromarray(img)\n",
    "        img = Image.open(self.img_path[idx]).convert('L')\n",
    "        if self.transform is not None:\n",
    "            img = self.transform(img)\n",
    "        \n",
    "        img_name = self.img_path[idx].split('/')[-1]\n",
    "        label = torch.IntTensor([mapping[i] for i in img_name.split('.')[0]]) #int(self.img_path[idx].split('/')[-1])\n",
    "        \n",
    "        return img, label"
   ]
  },
  {
   "cell_type": "raw",
   "id": "dcd9cb9d-5af3-4b15-b0e2-4affded23f40",
   "metadata": {},
   "source": [
    "transform_train = transforms.Compose([\n",
    "    transforms.RandomCrop(32, padding=4),\n",
    "    transforms.RandomHorizontalFlip(),\n",
    "    transforms.ToTensor(),\n",
    "    transforms.Normalize((0.4914, 0.4822, 0.4465), (0.2023, 0.1994, 0.2010))\n",
    "])"
   ]
  },
  {
   "cell_type": "raw",
   "id": "66b69758-07b6-466b-a0a1-d062dda4d924",
   "metadata": {},
   "source": [
    "transform_test = transforms.Compose([\n",
    "    transforms.ToTensor(),\n",
    "    transforms.Normalize((0.4914, 0.4822, 0.4465), (0.2023, 0.1994, 0.2010)),\n",
    "])"
   ]
  },
  {
   "cell_type": "code",
   "execution_count": 7,
   "id": "d21f40c4-56ab-4bbe-935a-cba184638b78",
   "metadata": {},
   "outputs": [],
   "source": [
    "transform = T.Compose([\n",
    "    T.ToTensor()\n",
    "])"
   ]
  },
  {
   "cell_type": "markdown",
   "id": "09316b2e-ddd2-4817-98f1-048e607809a2",
   "metadata": {},
   "source": [
    "## Save a testset for active learning"
   ]
  },
  {
   "cell_type": "raw",
   "id": "abdcd413-8bd0-450f-a6bb-3620c72863bd",
   "metadata": {},
   "source": [
    "dataset = Loader_Captcha(is_train=True, transform=transform)\n",
    "trainset, testset = train_test_split(dataset, test_size=0.2, shuffle=True)"
   ]
  },
  {
   "cell_type": "raw",
   "id": "06d0096b-20fe-4064-af8f-97fd5db5d71f",
   "metadata": {},
   "source": [
    "import pickle\n",
    "with open('./trainset.pkl', 'wb') as f:\n",
    "    pickle.dump(trainset, f)\n",
    "with open('./testset.pkl', 'wb') as f:\n",
    "    pickle.dump(testset, f)"
   ]
  },
  {
   "cell_type": "markdown",
   "id": "46b271be-a6de-464e-b4bb-5c0fa534105c",
   "metadata": {},
   "source": [
    "## if have a pkl file, load the file."
   ]
  },
  {
   "cell_type": "code",
   "execution_count": 8,
   "id": "7dcf8959-0879-4ca0-90e1-d49f0c806f36",
   "metadata": {},
   "outputs": [
    {
     "data": {
      "text/plain": [
       "65862"
      ]
     },
     "execution_count": 8,
     "metadata": {},
     "output_type": "execute_result"
    }
   ],
   "source": [
    "import pickle\n",
    "trainset = []\n",
    "with open('./trainset.pkl', 'rb') as f:\n",
    "    trainset = pickle.load(f)\n",
    "len(trainset)"
   ]
  },
  {
   "cell_type": "code",
   "execution_count": 9,
   "id": "39dc58be-d360-4925-b162-a30580ded271",
   "metadata": {},
   "outputs": [
    {
     "data": {
      "text/plain": [
       "(5000, 1000)"
      ]
     },
     "execution_count": 9,
     "metadata": {},
     "output_type": "execute_result"
    }
   ],
   "source": [
    "trainloader = torch.utils.data.DataLoader(trainset[1000:6000], batch_size=16, shuffle=True)\n",
    "testloader  = torch.utils.data.DataLoader(trainset[:1000],  batch_size=8,  shuffle=False) # > trainset으로 변경해야 함. (active에 영향을 안주기위해서)\n",
    "len(trainloader.dataset), len(testloader.dataset)"
   ]
  },
  {
   "cell_type": "markdown",
   "id": "5fc955c4-8859-4728-b5a4-90e31c06b227",
   "metadata": {},
   "source": [
    "## 1.2 Model"
   ]
  },
  {
   "cell_type": "code",
   "execution_count": 10,
   "id": "715140b1-e5f5-4bb3-b0d4-eb1d40ed128b",
   "metadata": {},
   "outputs": [],
   "source": [
    "class Bidirectional(nn.Module):\n",
    "    def __init__(self, inp, hidden, out, lstm=True):\n",
    "        super(Bidirectional, self).__init__()\n",
    "        if lstm:\n",
    "            self.rnn = nn.LSTM(inp, hidden, bidirectional=True)\n",
    "        else:\n",
    "            self.rnn = nn.GRU(inp, hidden, bidirectional=True)\n",
    "        self.embedding = nn.Linear(hidden*2, out)\n",
    "    def forward(self, X):\n",
    "        recurrent, _ = self.rnn(X)\n",
    "        out = self.embedding(recurrent)     \n",
    "        return out"
   ]
  },
  {
   "cell_type": "code",
   "execution_count": 11,
   "id": "aae36e4c-03ba-40db-b0e2-637db26caaa8",
   "metadata": {},
   "outputs": [],
   "source": [
    "class CRNN(nn.Module):\n",
    "    def __init__(self, in_channels, output):\n",
    "        super(CRNN, self).__init__()\n",
    "\n",
    "        self.cnn = nn.Sequential(\n",
    "                nn.Conv2d(in_channels, 256, 9, stride=1, padding=1),\n",
    "                nn.ReLU(),\n",
    "                nn.BatchNorm2d(256),\n",
    "                nn.MaxPool2d(3, 3),\n",
    "                nn.Conv2d(256, 256, (4, 3), stride=1, padding=1),\n",
    "                nn.ReLU(),\n",
    "                nn.BatchNorm2d(256))\n",
    "        \n",
    "        self.linear = nn.Linear(20992, 256)\n",
    "        self.bn1 = nn.BatchNorm1d(256)\n",
    "        self.rnn = Bidirectional(256, 1024, output+1)\n",
    "\n",
    "    def forward(self, X, y=None, criterion = None): # y is target.\n",
    "        out = self.cnn(X)\n",
    "        N, C, w, h = out.size()\n",
    "        out = out.view(N, -1, h)\n",
    "        out = out.permute(0, 2, 1)\n",
    "        out = self.linear(out)\n",
    "\n",
    "        out = out.permute(1, 0, 2)\n",
    "        out = self.rnn(out)\n",
    "            \n",
    "        if y is not None:\n",
    "            T = out.size(0)\n",
    "            N = out.size(1)\n",
    "        \n",
    "            input_lengths = torch.full(size=(N,), fill_value=T, dtype=torch.int32)\n",
    "            target_lengths = torch.full(size=(N,), fill_value=5, dtype=torch.int32)\n",
    "        \n",
    "            loss = criterion(out, y, input_lengths, target_lengths)\n",
    "            \n",
    "            return out, loss\n",
    "        \n",
    "        return out, None\n",
    "    \n",
    "    def _ConvLayer(self, inp, out, kernel, stride, padding, bn=False):\n",
    "        if bn:\n",
    "            conv = [\n",
    "                nn.Conv2d(inp, out, kernel, stride=stride, padding=padding),\n",
    "                nn.ReLU(),\n",
    "                nn.BatchNorm2d(out)\n",
    "            ]\n",
    "        else:\n",
    "            conv = [\n",
    "                nn.Conv2d(inp, out, kernel, stride=stride, padding=padding),\n",
    "                nn.ReLU()\n",
    "            ]\n",
    "        return nn.Sequential(*conv)"
   ]
  },
  {
   "cell_type": "code",
   "execution_count": 12,
   "id": "549bf3d4-a97c-462c-912c-1dc4a52d9d01",
   "metadata": {},
   "outputs": [],
   "source": [
    "model = CRNN(in_channels=1, output=num_class)\n",
    "model = model.to(device)"
   ]
  },
  {
   "cell_type": "code",
   "execution_count": 13,
   "id": "493aeb60-84a4-4bfb-b254-3b018589f631",
   "metadata": {},
   "outputs": [],
   "source": [
    "if device == 'cuda':\n",
    "    cudnn.benchmark = True"
   ]
  },
  {
   "cell_type": "code",
   "execution_count": 14,
   "id": "cf6c62f9-629c-4650-95e9-26ec826d98f6",
   "metadata": {},
   "outputs": [],
   "source": [
    "criterion = nn.CTCLoss() #nn.CrossEntropyLoss()\n",
    "optimizer = optim.Adam(model.parameters(), lr=learning_rate) # optim.SGD(net.parameters(), lr=0.1, momentum=0.9, weight_decay=5e-4)\n",
    "scheduler = torch.optim.lr_scheduler.MultiStepLR(optimizer, milestones=[30, 60, 90])"
   ]
  },
  {
   "cell_type": "markdown",
   "id": "671535f9-1358-48ca-8954-5b2ee910490b",
   "metadata": {},
   "source": [
    "# 2 Training"
   ]
  },
  {
   "cell_type": "code",
   "execution_count": 19,
   "id": "c053095b-3c96-435e-88a8-25bc381f743c",
   "metadata": {},
   "outputs": [],
   "source": [
    "def predict(outputs):\n",
    "    result = []\n",
    "    for i in range(len(outputs)):\n",
    "        pred = []\n",
    "        then = 0\n",
    "        for x in outputs[i]:\n",
    "            if then != x and x > 0 :\n",
    "                pred.append(x)\n",
    "                if len(pred) == 5:\n",
    "                    break\n",
    "            then = x\n",
    "        if len(pred) < 5:\n",
    "            for i in range(5-len(pred)):\n",
    "                pred.append(0)\n",
    "        result.append(pred)\n",
    "    result = torch.LongTensor(result).cuda()\n",
    "    return result"
   ]
  },
  {
   "cell_type": "code",
   "execution_count": 20,
   "id": "1f6d6106-36b3-4f11-bcd7-90da7eaaa61a",
   "metadata": {},
   "outputs": [],
   "source": [
    "def train(epoch):\n",
    "    print('\\nEpoch: %d' % epoch)\n",
    "    model.train()\n",
    "    train_loss = 0\n",
    "    correct = 0\n",
    "    total = 0\n",
    "    \n",
    "    tk = tqdm(trainloader, total=len(trainloader))\n",
    "    for inputs, targets in tk:\n",
    "        inputs, targets = inputs.to(device), targets.to(device)\n",
    "        optimizer.zero_grad()\n",
    "        \n",
    "        out, loss = model(inputs, targets, criterion=criterion)\n",
    "        loss.backward()\n",
    "        optimizer.step()\n",
    "        \n",
    "        train_loss += loss.item()\n",
    "        predicted = predict(out.permute(1, 2, 0).max(1)[1])\n",
    "        total += targets.size(0)\n",
    "        for i in range(len(predicted)):\n",
    "            correct += torch.equal(predicted[i], targets[i]) \n",
    "        \n",
    "        tk.set_postfix({'Train - Loss' : loss.item(), '& ACC':100.*correct/total})\n",
    "    \n",
    "    return 100.*correct/total, train_loss/total"
   ]
  },
  {
   "cell_type": "markdown",
   "id": "a889e482-5ce4-4161-a3ec-a1b62d9ccf95",
   "metadata": {},
   "source": [
    "# 3 Test"
   ]
  },
  {
   "cell_type": "code",
   "execution_count": 21,
   "id": "fd4413ca-15a9-433c-8dea-d5be884b55cc",
   "metadata": {},
   "outputs": [],
   "source": [
    "def test(epoch):\n",
    "    global best_acc\n",
    "    model.eval()\n",
    "    test_loss = 0\n",
    "    correct = 0\n",
    "    total = 0\n",
    "    with torch.no_grad():\n",
    "        tk = tqdm(testloader, total=len(testloader))\n",
    "        for inputs, targets in tk:\n",
    "            inputs, targets = inputs.to(device), targets.to(device)\n",
    "            out, loss = model(inputs, targets, criterion=criterion)\n",
    "            \n",
    "            test_loss += loss.item()\n",
    "            predicted = predict(out.permute(1, 2, 0).max(1)[1])\n",
    "            total += targets.size(0)\n",
    "            for i in range(len(predicted)):\n",
    "                correct += torch.equal(predicted[i], targets[i]) \n",
    "\n",
    "            tk.set_postfix({'Test - Loss' : loss.item(), '& ACC':100.*correct/total})\n",
    "\n",
    "    # Save checkpoint.\n",
    "    acc = 100.*correct/total\n",
    "    with open('./0_backbone_model_best_test_'+PATH_SAVE_DATASET+'.txt','a') as f:\n",
    "        f.write(str(acc)+'/'+str(test_loss)+':'+str(epoch)+'\\n')\n",
    "    if acc > best_acc:\n",
    "        print('Saving..')\n",
    "        state = {\n",
    "            'model': model.state_dict(),\n",
    "            'acc': acc,\n",
    "            'epoch': epoch,\n",
    "        }\n",
    "        if not os.path.isdir('checkpoint'):\n",
    "            os.mkdir('checkpoint')\n",
    "        # save rotation weights\n",
    "        torch.save(state, './checkpoint/0_backbone_model_'+PATH_SAVE_DATASET+'.pth')\n",
    "        best_acc = acc\n",
    "        \n",
    "    return 100.*correct/total, test_loss/total"
   ]
  },
  {
   "cell_type": "markdown",
   "id": "22a65967-20b9-4e82-8c2a-b45cea20cc64",
   "metadata": {},
   "source": [
    "# 4 Run"
   ]
  },
  {
   "cell_type": "code",
   "execution_count": 22,
   "id": "87d6456a-3a4b-4fa4-aaee-ef293d7b2e41",
   "metadata": {},
   "outputs": [],
   "source": [
    "def save_acc_and_loss(epoch, acc, loss, is_train = True):\n",
    "    task_name = 'epoch - '+str(epoch)+'\\ntrain > ' if is_train else 'test > '\n",
    "    file_path = './0_backbone_model_result_'+PATH_SAVE_DATASET+'.txt'\n",
    "    with open(file_path,'a') as f:\n",
    "        f.write(task_name + 'acc_' + str(acc) + ' & loss_' + str(loss) +'\\n')"
   ]
  },
  {
   "cell_type": "code",
   "execution_count": 23,
   "id": "cb407ad1-a94c-4e21-ba37-68bfec587f72",
   "metadata": {},
   "outputs": [
    {
     "name": "stdout",
     "output_type": "stream",
     "text": [
      "===== HISTORY =====\n",
      "train >  {'acc': [0.0, 0.0, 0.0, 0.0, 0.0, 0.0, 0.0, 0.0, 0.0, 0.0, 0.0, 0.0, 0.0, 0.0, 0.0, 0.34, 12.4, 47.02, 66.72, 77.2, 83.24, 88.16, 90.84, 93.4, 95.5, 96.04, 97.12, 97.9, 98.5, 98.48, 99.56, 99.94, 99.96, 99.96, 99.96, 99.96, 99.96, 99.96, 99.96, 99.96, 99.96, 99.98, 99.98, 99.98, 99.98, 99.98], 'loss': [0.22594706927835942, 0.25982749943733213, 0.2616117265224457, 0.2616815471172333, 0.2616121827602386, 0.2617728785514832, 0.2618544746875763, 0.2616652231693268, 0.2617204129219055, 0.2607871565818787, 0.26032606320381163, 0.25816235246658326, 0.2560550127506256, 0.2532932361125946, 0.2485858654975891, 0.20055346059799195, 0.08604959109425545, 0.038264464914798735, 0.023760358621552586, 0.01703615467827767, 0.013071761648729443, 0.01020415249299258, 0.008088611452095211, 0.006741082617640495, 0.005523762807808816, 0.004794246220961213, 0.004029096635617316, 0.0036001272475346922, 0.0031026557456701994, 0.0029781145986169577, 0.0017045613896567375, 0.0012746805179631338, 0.0011142754670931026, 0.0010162674609106035, 0.0009502302937209606, 0.0008846443753689528, 0.0008268872987478972, 0.0007825198889710009, 0.0007359958248911425, 0.0006907263436820358, 0.0006494103399571032, 0.0006172107012476772, 0.0005919529318693094, 0.0005776332853129134, 0.0005279418766032905, 0.0004985386342159472]}\n",
      "test >  {'acc': [0.0, 0.0, 0.0, 0.0, 0.0, 0.0, 0.0, 0.0, 0.0, 0.0, 0.0, 0.0, 0.0, 0.0, 0.0, 0.5, 0.0, 63.7, 68.7, 75.6, 71.4, 80.0, 81.0, 75.6, 82.1, 74.2, 67.1, 81.6, 81.7, 82.0, 83.0, 81.3, 83.3, 81.8, 83.0, 83.0, 81.3, 82.7, 82.1, 83.2, 81.8, 82.5, 82.1, 81.3, 83.3, 81.8], 'loss': [0.5097326414585114, 0.5241415569782257, 0.5211528742313385, 0.5181382477283478, 0.5108630123138428, 0.5225720055103302, 0.5199721229076385, 0.5224186644554139, 0.5173946309089661, 0.5233071007728577, 0.525460186958313, 0.5423711361885071, 0.48486423707008364, 0.49179563164711, 0.45533817481994626, 0.30070267474651335, -1.2953667631149293, 0.04873668783158064, 0.017439925561659037, -0.010132880332879722, 0.08090426129102707, 0.00546151823643595, 0.029810150124132632, 0.040478441340848804, 0.038039594136178495, 0.04211879450827837, 0.04725032776594162, 0.040428349852561954, 0.03192775008454919, 0.12577198278903962, 0.03674688643217087, 0.038072112813591956, 0.03647931120917201, 0.037889427110552786, 0.03813577419519425, 0.04118976776301861, 0.04170577175170183, 0.03944618057832122, 0.04146845848485827, 0.04061591187492013, 0.043291503958404066, 0.043516057826578615, 0.04777530574798584, 0.041427292216569184, 0.04231230033561587, 0.04737715265154838]}\n",
      "\n",
      "Epoch: 46\n"
     ]
    },
    {
     "name": "stderr",
     "output_type": "stream",
     "text": [
      " 23%|██       | 72/313 [00:16<00:54,  4.41it/s, Train - Loss=-.00534, & ACC=100]\n"
     ]
    },
    {
     "ename": "KeyboardInterrupt",
     "evalue": "",
     "output_type": "error",
     "traceback": [
      "\u001b[0;31m---------------------------------------------------------------------------\u001b[0m",
      "\u001b[0;31mKeyboardInterrupt\u001b[0m                         Traceback (most recent call last)",
      "\u001b[0;32m/tmp/ipykernel_5670/971688822.py\u001b[0m in \u001b[0;36m<module>\u001b[0;34m\u001b[0m\n\u001b[1;32m      7\u001b[0m     \u001b[0mprint\u001b[0m\u001b[0;34m(\u001b[0m\u001b[0;34m'test > '\u001b[0m\u001b[0;34m,\u001b[0m \u001b[0mstr\u001b[0m\u001b[0;34m(\u001b[0m\u001b[0mhistory_test\u001b[0m\u001b[0;34m)\u001b[0m\u001b[0;34m)\u001b[0m\u001b[0;34m\u001b[0m\u001b[0m\n\u001b[1;32m      8\u001b[0m \u001b[0;34m\u001b[0m\u001b[0m\n\u001b[0;32m----> 9\u001b[0;31m     \u001b[0macc\u001b[0m\u001b[0;34m,\u001b[0m \u001b[0mloss\u001b[0m \u001b[0;34m=\u001b[0m \u001b[0mtrain\u001b[0m\u001b[0;34m(\u001b[0m\u001b[0mepoch\u001b[0m\u001b[0;34m)\u001b[0m\u001b[0;34m\u001b[0m\u001b[0m\n\u001b[0m\u001b[1;32m     10\u001b[0m     \u001b[0mhistory_train\u001b[0m\u001b[0;34m[\u001b[0m\u001b[0;34m'acc'\u001b[0m\u001b[0;34m]\u001b[0m\u001b[0;34m.\u001b[0m\u001b[0mappend\u001b[0m\u001b[0;34m(\u001b[0m\u001b[0macc\u001b[0m\u001b[0;34m)\u001b[0m\u001b[0;34m\u001b[0m\u001b[0m\n\u001b[1;32m     11\u001b[0m     \u001b[0mhistory_train\u001b[0m\u001b[0;34m[\u001b[0m\u001b[0;34m'loss'\u001b[0m\u001b[0;34m]\u001b[0m\u001b[0;34m.\u001b[0m\u001b[0mappend\u001b[0m\u001b[0;34m(\u001b[0m\u001b[0mloss\u001b[0m\u001b[0;34m)\u001b[0m\u001b[0;34m\u001b[0m\u001b[0m\n",
      "\u001b[0;32m/tmp/ipykernel_5670/404460090.py\u001b[0m in \u001b[0;36mtrain\u001b[0;34m(epoch)\u001b[0m\n\u001b[1;32m     15\u001b[0m         \u001b[0moptimizer\u001b[0m\u001b[0;34m.\u001b[0m\u001b[0mstep\u001b[0m\u001b[0;34m(\u001b[0m\u001b[0;34m)\u001b[0m\u001b[0;34m\u001b[0m\u001b[0m\n\u001b[1;32m     16\u001b[0m \u001b[0;34m\u001b[0m\u001b[0m\n\u001b[0;32m---> 17\u001b[0;31m         \u001b[0mtrain_loss\u001b[0m \u001b[0;34m+=\u001b[0m \u001b[0mloss\u001b[0m\u001b[0;34m.\u001b[0m\u001b[0mitem\u001b[0m\u001b[0;34m(\u001b[0m\u001b[0;34m)\u001b[0m\u001b[0;34m\u001b[0m\u001b[0m\n\u001b[0m\u001b[1;32m     18\u001b[0m         \u001b[0mpredicted\u001b[0m \u001b[0;34m=\u001b[0m \u001b[0mpredict\u001b[0m\u001b[0;34m(\u001b[0m\u001b[0mout\u001b[0m\u001b[0;34m.\u001b[0m\u001b[0mpermute\u001b[0m\u001b[0;34m(\u001b[0m\u001b[0;36m1\u001b[0m\u001b[0;34m,\u001b[0m \u001b[0;36m2\u001b[0m\u001b[0;34m,\u001b[0m \u001b[0;36m0\u001b[0m\u001b[0;34m)\u001b[0m\u001b[0;34m.\u001b[0m\u001b[0mmax\u001b[0m\u001b[0;34m(\u001b[0m\u001b[0;36m1\u001b[0m\u001b[0;34m)\u001b[0m\u001b[0;34m[\u001b[0m\u001b[0;36m1\u001b[0m\u001b[0;34m]\u001b[0m\u001b[0;34m)\u001b[0m\u001b[0;34m\u001b[0m\u001b[0m\n\u001b[1;32m     19\u001b[0m         \u001b[0mtotal\u001b[0m \u001b[0;34m+=\u001b[0m \u001b[0mtargets\u001b[0m\u001b[0;34m.\u001b[0m\u001b[0msize\u001b[0m\u001b[0;34m(\u001b[0m\u001b[0;36m0\u001b[0m\u001b[0;34m)\u001b[0m\u001b[0;34m\u001b[0m\u001b[0m\n",
      "\u001b[0;31mKeyboardInterrupt\u001b[0m: "
     ]
    }
   ],
   "source": [
    "history_train = {'acc':[], 'loss':[]} \n",
    "history_test  = {'acc':[], 'loss':[]}\n",
    "\n",
    "for epoch in range(100):\n",
    "    print('===== HISTORY =====')\n",
    "    print('train > ', str(history_train))\n",
    "    print('test > ', str(history_test))\n",
    "    \n",
    "    acc, loss = train(epoch)\n",
    "    history_train['acc'].append(acc)\n",
    "    history_train['loss'].append(loss)\n",
    "    save_acc_and_loss(epoch, acc, loss, is_train = True)\n",
    "    \n",
    "    acc, loss = test(epoch)\n",
    "    history_test['acc'].append(acc)\n",
    "    history_test['loss'].append(loss)\n",
    "    save_acc_and_loss(epoch, acc, loss, is_train = False)\n",
    "       \n",
    "    ipd.clear_output(wait=True)\n",
    "    scheduler.step()"
   ]
  },
  {
   "cell_type": "markdown",
   "id": "9db6f58e-6967-4759-bec9-38c068bb9988",
   "metadata": {},
   "source": [
    "# 5 Make batches >> batch size 1로 하고 진행 & trainset을 쪼개야 함"
   ]
  },
  {
   "cell_type": "code",
   "execution_count": 24,
   "id": "8a847b88-33a8-4464-af78-a4430262865d",
   "metadata": {},
   "outputs": [],
   "source": [
    "batchloader  = torch.utils.data.DataLoader(trainset[6000:],  batch_size=1,  shuffle=False)"
   ]
  },
  {
   "cell_type": "code",
   "execution_count": 25,
   "id": "0ea4e7ed-4f3b-4cd3-b1d2-b6c8e31a782d",
   "metadata": {},
   "outputs": [],
   "source": [
    "def make_batch():\n",
    "    global best_acc\n",
    "    model.eval()\n",
    "    test_loss = 0\n",
    "    correct = 0\n",
    "    total = 0\n",
    "    \n",
    "    # 같은 이름 파일 초기화\n",
    "    with open('./1_make_batches_'+PATH_SAVE_DATASET+'.txt','w') as f:\n",
    "        f.write('')\n",
    "\n",
    "    with torch.no_grad():\n",
    "        tk = tqdm(batchloader, total=len(batchloader))\n",
    "        for inputs, targets in tk:\n",
    "            inputs, targets = inputs.to(device), targets.to(device)\n",
    "            out, loss = model(inputs, targets, criterion=criterion)\n",
    "            \n",
    "            test_loss += loss.item()\n",
    "            predicted = predict(out.permute(1, 2, 0).max(1)[1])\n",
    "            total += targets.size(0) * 5\n",
    "            correct += predicted.eq(targets).sum().item()\n",
    "            \n",
    "            label = ''\n",
    "            for p in targets[0]:\n",
    "                label += mapping_inv[p.item()]\n",
    "            s = str(float(loss))+'_/data/jh/datasets/Large_Captcha_Dataset/'+label+'.png\\n'\n",
    "            with open('./1_make_batches_'+PATH_SAVE_DATASET+'.txt','a') as f:\n",
    "                f.write(s)"
   ]
  },
  {
   "cell_type": "code",
   "execution_count": null,
   "id": "8c6f8595-817f-4439-8726-91290d4234da",
   "metadata": {},
   "outputs": [
    {
     "name": "stderr",
     "output_type": "stream",
     "text": [
      " 20%|███████▎                             | 11905/59862 [02:36<10:30, 76.04it/s]"
     ]
    }
   ],
   "source": [
    "make_batch()"
   ]
  },
  {
   "cell_type": "code",
   "execution_count": 33,
   "id": "39ced155-3ec9-4ce4-8ad2-a57d8a8c900e",
   "metadata": {},
   "outputs": [
    {
     "data": {
      "text/plain": [
       "59862"
      ]
     },
     "execution_count": 33,
     "metadata": {},
     "output_type": "execute_result"
    }
   ],
   "source": [
    "with open('./1_make_batches_'+PATH_SAVE_DATASET+'.txt', 'r') as f:\n",
    "    losses = f.readlines()\n",
    "len(losses)"
   ]
  },
  {
   "cell_type": "code",
   "execution_count": 34,
   "id": "d8373b21-5abc-4c54-a4bd-ef2b17e9ec60",
   "metadata": {},
   "outputs": [
    {
     "data": {
      "text/plain": [
       "('0.3057868480682373', '/data/jh/datasets/Large_Captcha_Dataset/s4JfO.png')"
      ]
     },
     "execution_count": 34,
     "metadata": {},
     "output_type": "execute_result"
    }
   ],
   "source": [
    "loss_1 = []\n",
    "name_2 = []\n",
    "for j in losses:\n",
    "    loss_1.append(j[:-1].split('_/')[0])\n",
    "    name_2.append('/'+j[:-1].split('_/')[1])\n",
    "loss_1[0], name_2[0]"
   ]
  },
  {
   "cell_type": "code",
   "execution_count": 35,
   "id": "b5f5cf71-219a-481d-9886-8e9e8c13e06b",
   "metadata": {},
   "outputs": [],
   "source": [
    "s = np.array(loss_1)\n",
    "sort_index = np.argsort(s)\n",
    "x = sort_index.tolist()\n",
    "x.reverse()\n",
    "sort_index = np.array(x) # convert to high loss first"
   ]
  },
  {
   "cell_type": "code",
   "execution_count": 36,
   "id": "1ecd0859-ae2e-4d21-8beb-13c19f87f717",
   "metadata": {},
   "outputs": [],
   "source": [
    "if not os.path.isdir('loss_'+PATH_SAVE_DATASET):\n",
    "    os.mkdir('loss_'+PATH_SAVE_DATASET)"
   ]
  },
  {
   "cell_type": "code",
   "execution_count": 37,
   "id": "fdcc6f6a-fe24-442d-9733-1b7ad520a4ae",
   "metadata": {},
   "outputs": [],
   "source": [
    "batch_file_size = 5000"
   ]
  },
  {
   "cell_type": "code",
   "execution_count": null,
   "id": "34a35ff3-bbda-48e4-8a51-82c376a95488",
   "metadata": {},
   "outputs": [],
   "source": [
    "# loss txt 기반으로 10등분\n",
    "for i in range(10):\n",
    "    # sample minibatch from unlabeled pool \n",
    "    sample = sort_index[i*batch_file_size:(i+1)*batch_file_size]\n",
    "    b = np.zeros(1)\n",
    "    for jj in sample:\n",
    "        b[0] +=1\n",
    "    print(f'{i} Class Distribution: {b}')\n",
    "    s = './loss_'+PATH_SAVE_DATASET+'/batch_' + str(i) + '.txt'\n",
    "    for k in sample:\n",
    "        with open(s, 'a') as f:\n",
    "            f.write(name_2[k]+'\\n')"
   ]
  },
  {
   "cell_type": "code",
   "execution_count": null,
   "id": "964ef001-762c-4b68-8e9f-8c4fe5c6588c",
   "metadata": {},
   "outputs": [],
   "source": []
  }
 ],
 "metadata": {
  "kernelspec": {
   "display_name": "halp",
   "language": "python",
   "name": "halp"
  },
  "language_info": {
   "codemirror_mode": {
    "name": "ipython",
    "version": 3
   },
   "file_extension": ".py",
   "mimetype": "text/x-python",
   "name": "python",
   "nbconvert_exporter": "python",
   "pygments_lexer": "ipython3",
   "version": "3.7.0"
  }
 },
 "nbformat": 4,
 "nbformat_minor": 5
}
