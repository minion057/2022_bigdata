{
 "cells": [
  {
   "cell_type": "code",
   "execution_count": 1,
   "id": "e3548dbc-7003-473c-9af8-bb1d54fe2e29",
   "metadata": {},
   "outputs": [],
   "source": [
    "import torch\n",
    "import torch.nn as nn\n",
    "import torch.optim as optim\n",
    "import torch.nn.functional as F\n",
    "import torch.backends.cudnn as cudnn\n",
    "\n",
    "import torchvision\n",
    "import torchvision.transforms as T\n",
    "\n",
    "import os\n",
    "import random\n",
    "\n",
    "# from models import *\n",
    "# from loader import Loader, RotationLoader\n",
    "from utils import progress_bar\n",
    "import numpy as np\n",
    "\n",
    "import string\n",
    "import glob \n",
    "from PIL import Image\n",
    "from torch.utils.data import Dataset, DataLoader\n",
    "import cv2\n",
    "from sklearn.model_selection import train_test_split\n",
    "from tqdm import tqdm\n",
    "\n",
    "import IPython.display as ipd"
   ]
  },
  {
   "cell_type": "markdown",
   "id": "0338add3-af39-4466-960f-47c0b20ee6cb",
   "metadata": {},
   "source": [
    "# 1 Setting"
   ]
  },
  {
   "cell_type": "markdown",
   "id": "a572b1db-bb1d-49fb-be81-f3512bbfff4f",
   "metadata": {},
   "source": [
    "## 1.1 Argument"
   ]
  },
  {
   "cell_type": "code",
   "execution_count": 2,
   "id": "70b4993b-545f-476d-b5dc-00b329bf64f8",
   "metadata": {},
   "outputs": [
    {
     "name": "stdout",
     "output_type": "stream",
     "text": [
      "cuda\n"
     ]
    }
   ],
   "source": [
    "device = 'cuda' if torch.cuda.is_available() else 'cpu'\n",
    "print(device)"
   ]
  },
  {
   "cell_type": "code",
   "execution_count": 3,
   "id": "e6b94244-52a4-41d3-9ad6-7775fc84e57b",
   "metadata": {},
   "outputs": [],
   "source": [
    "best_acc = 0 # best test acc\n",
    "start_epoch = 0 # start from epoch 0 OR checkpoint epoch"
   ]
  },
  {
   "cell_type": "markdown",
   "id": "e93a41b1-759d-4482-bad2-562b7fbbcbcd",
   "metadata": {},
   "source": [
    "## 1.2 Data"
   ]
  },
  {
   "cell_type": "code",
   "execution_count": 4,
   "id": "2f3a9d9b-d833-4e6e-a85d-bd522f7383f8",
   "metadata": {},
   "outputs": [],
   "source": [
    "DATASET = 'Large_Captcha'"
   ]
  },
  {
   "cell_type": "code",
   "execution_count": 5,
   "id": "04573ed5-ae78-451f-8976-71079045bd72",
   "metadata": {},
   "outputs": [
    {
     "data": {
      "text/plain": [
       "62"
      ]
     },
     "execution_count": 5,
     "metadata": {},
     "output_type": "execute_result"
    }
   ],
   "source": [
    "all_letters = string.ascii_lowercase + string.digits + string.ascii_uppercase\n",
    "\n",
    "mapping = {}      # key - num    & value - letter\n",
    "mapping_inv = {}  # key - letter & value - num\n",
    "\n",
    "for i, x in enumerate(all_letters):\n",
    "    mapping[x] = i+1\n",
    "    mapping_inv[i+1] = x\n",
    "\n",
    "num_class = len(mapping)\n",
    "num_class"
   ]
  },
  {
   "cell_type": "code",
   "execution_count": 6,
   "id": "48b2fad9-c852-4e3e-9326-baad0066e448",
   "metadata": {},
   "outputs": [],
   "source": [
    "class Loader_Captcha_active(Dataset):\n",
    "    def __init__(self, is_train=True, transform=None, path_list=None):\n",
    "        self.is_train = is_train\n",
    "        self.transform = transform\n",
    "        if path_list is None:\n",
    "            raise Exception(\"not have a path_list\")\n",
    "        self.img_path = path_list\n",
    "\n",
    "    def __len__(self):\n",
    "        return len(self.img_path)\n",
    "\n",
    "    def __getitem__(self, idx):\n",
    "        #img = cv2.imread(self.img_path[idx])\n",
    "        #img = Image.fromarray(img)\n",
    "        img = Image.open(self.img_path[idx]).convert('L')\n",
    "        if self.transform is not None:\n",
    "            img = self.transform(img)\n",
    "        \n",
    "        img_name = self.img_path[idx].split('/')[-1]\n",
    "        label = torch.IntTensor([mapping[i] for i in img_name.split('.')[0]]) #int(self.img_path[idx].split('/')[-1])\n",
    "        \n",
    "        return img, label"
   ]
  },
  {
   "cell_type": "code",
   "execution_count": 7,
   "id": "d21f40c4-56ab-4bbe-935a-cba184638b78",
   "metadata": {},
   "outputs": [],
   "source": [
    "transform = T.Compose([\n",
    "    T.ToTensor()\n",
    "])"
   ]
  },
  {
   "cell_type": "code",
   "execution_count": 8,
   "id": "d1552f4f-0e37-4043-87b5-c1d15c3fd077",
   "metadata": {},
   "outputs": [
    {
     "data": {
      "text/plain": [
       "16466"
      ]
     },
     "execution_count": 8,
     "metadata": {},
     "output_type": "execute_result"
    }
   ],
   "source": [
    "import pickle\n",
    "testset = []\n",
    "with open('./testset.pkl', 'rb') as f:\n",
    "    testset = pickle.load(f)\n",
    "len(testset)"
   ]
  },
  {
   "cell_type": "code",
   "execution_count": 9,
   "id": "09f492c0-2b2a-4781-b1aa-b548f5e661ef",
   "metadata": {},
   "outputs": [],
   "source": [
    "random.shuffle(testset)\n",
    "testloader  = torch.utils.data.DataLoader(testset[:1000],  batch_size=8,  shuffle=False)"
   ]
  },
  {
   "cell_type": "markdown",
   "id": "5fc955c4-8859-4728-b5a4-90e31c06b227",
   "metadata": {},
   "source": [
    "## 1.2 Model"
   ]
  },
  {
   "cell_type": "code",
   "execution_count": 10,
   "id": "715140b1-e5f5-4bb3-b0d4-eb1d40ed128b",
   "metadata": {},
   "outputs": [],
   "source": [
    "class Bidirectional(nn.Module):\n",
    "    def __init__(self, inp, hidden, out, lstm=True):\n",
    "        super(Bidirectional, self).__init__()\n",
    "        if lstm:\n",
    "            self.rnn = nn.LSTM(inp, hidden, bidirectional=True)\n",
    "        else:\n",
    "            self.rnn = nn.GRU(inp, hidden, bidirectional=True)\n",
    "        self.embedding = nn.Linear(hidden*2, out)\n",
    "    def forward(self, X):\n",
    "        recurrent, _ = self.rnn(X)\n",
    "        out = self.embedding(recurrent)     \n",
    "        return out"
   ]
  },
  {
   "cell_type": "code",
   "execution_count": 11,
   "id": "aae36e4c-03ba-40db-b0e2-637db26caaa8",
   "metadata": {},
   "outputs": [],
   "source": [
    "class CRNN(nn.Module):\n",
    "    def __init__(self, in_channels, output):\n",
    "        super(CRNN, self).__init__()\n",
    "\n",
    "        self.cnn = nn.Sequential(\n",
    "                nn.Conv2d(in_channels, 256, 9, stride=1, padding=1),\n",
    "                nn.ReLU(),\n",
    "                nn.BatchNorm2d(256),\n",
    "                nn.MaxPool2d(3, 3),\n",
    "                nn.Conv2d(256, 256, (4, 3), stride=1, padding=1),\n",
    "                nn.ReLU(),\n",
    "                nn.BatchNorm2d(256))\n",
    "        \n",
    "        self.linear = nn.Linear(20992, 256)\n",
    "        self.bn1 = nn.BatchNorm1d(256)\n",
    "        self.rnn = Bidirectional(256, 1024, output+1)\n",
    "\n",
    "    def forward(self, X, y=None, criterion = None): # y is target.\n",
    "        out = self.cnn(X)\n",
    "        N, C, w, h = out.size()\n",
    "        out = out.view(N, -1, h)\n",
    "        out = out.permute(0, 2, 1)\n",
    "        out = self.linear(out)\n",
    "\n",
    "        out = out.permute(1, 0, 2)\n",
    "        out = self.rnn(out)\n",
    "            \n",
    "        if y is not None:\n",
    "            T = out.size(0)\n",
    "            N = out.size(1)\n",
    "        \n",
    "            input_lengths = torch.full(size=(N,), fill_value=T, dtype=torch.int32)\n",
    "            target_lengths = torch.full(size=(N,), fill_value=5, dtype=torch.int32)\n",
    "        \n",
    "            loss = criterion(out, y, input_lengths, target_lengths)\n",
    "            \n",
    "            return out, loss\n",
    "        \n",
    "        return out, None\n",
    "    \n",
    "    def _ConvLayer(self, inp, out, kernel, stride, padding, bn=False):\n",
    "        if bn:\n",
    "            conv = [\n",
    "                nn.Conv2d(inp, out, kernel, stride=stride, padding=padding),\n",
    "                nn.ReLU(),\n",
    "                nn.BatchNorm2d(out)\n",
    "            ]\n",
    "        else:\n",
    "            conv = [\n",
    "                nn.Conv2d(inp, out, kernel, stride=stride, padding=padding),\n",
    "                nn.ReLU()\n",
    "            ]\n",
    "        return nn.Sequential(*conv)"
   ]
  },
  {
   "cell_type": "code",
   "execution_count": 12,
   "id": "549bf3d4-a97c-462c-912c-1dc4a52d9d01",
   "metadata": {},
   "outputs": [],
   "source": [
    "model = CRNN(in_channels=1, output=num_class)\n",
    "model = model.to(device)\n",
    "# print(net)"
   ]
  },
  {
   "cell_type": "code",
   "execution_count": 13,
   "id": "493aeb60-84a4-4bfb-b254-3b018589f631",
   "metadata": {},
   "outputs": [],
   "source": [
    "if device == 'cuda':\n",
    "    #net = torch.nn.DataParallel(net) # 문현안쓸때만쓰기... 나는 0\n",
    "    cudnn.benchmark = True"
   ]
  },
  {
   "cell_type": "code",
   "execution_count": 14,
   "id": "6be97a1e-344d-487f-9e46-19441727b738",
   "metadata": {},
   "outputs": [],
   "source": [
    "# criterion = nn.CTCLoss() #nn.CrossEntropyLoss()\n",
    "# optimizer = optim.Adam(model.parameters(), lr=1e-4) # optim.SGD(net.parameters(), lr=0.1, momentum=0.9, weight_decay=5e-4)\n",
    "# # scheduler = torch.optim.lr_scheduler.MultiStepLR(optimizer, milestones=[30, 60, 90])"
   ]
  },
  {
   "cell_type": "markdown",
   "id": "671535f9-1358-48ca-8954-5b2ee910490b",
   "metadata": {},
   "source": [
    "# 2 Training"
   ]
  },
  {
   "cell_type": "code",
   "execution_count": 15,
   "id": "c053095b-3c96-435e-88a8-25bc381f743c",
   "metadata": {},
   "outputs": [],
   "source": [
    "def predict(outputs):\n",
    "    result = []\n",
    "    for i in range(len(outputs)):\n",
    "        pred = []\n",
    "        then = 0\n",
    "        for x in outputs[i]:\n",
    "            if then != x and x > 0 :\n",
    "                pred.append(x)\n",
    "                if len(pred) == 5:\n",
    "                    break\n",
    "            then = x\n",
    "        if len(pred) < 5:\n",
    "            for i in range(5-len(pred)):\n",
    "                pred.append(0)\n",
    "        result.append(pred)\n",
    "    result = torch.LongTensor(result).cuda()\n",
    "    return result"
   ]
  },
  {
   "cell_type": "code",
   "execution_count": 16,
   "id": "1f6d6106-36b3-4f11-bcd7-90da7eaaa61a",
   "metadata": {},
   "outputs": [],
   "source": [
    "def train(model, criterion, optimizer, epoch, trainloader):\n",
    "    print('\\nEpoch: %d' % epoch)\n",
    "    model.train()\n",
    "    train_loss = 0\n",
    "    correct = 0\n",
    "    total = 0\n",
    "    \n",
    "    \n",
    "    tk = tqdm(trainloader, total=len(trainloader))\n",
    "    #for batch_idx, (inputs, targets) in enumerate(trainloader):\n",
    "    for inputs, targets in tk:\n",
    "        inputs, targets = inputs.to(device), targets.to(device)\n",
    "        optimizer.zero_grad()\n",
    "        \n",
    "        out, loss = model(inputs, targets, criterion=criterion)\n",
    "        loss.backward()\n",
    "        optimizer.step()\n",
    "        \n",
    "        train_loss += loss.item()\n",
    "        predicted = predict(out.permute(1, 2, 0).max(1)[1])\n",
    "        total += targets.size(0) #* 5\n",
    "        for i in range(len(predicted)):\n",
    "            correct += torch.equal(predicted[i], targets[i])\n",
    "#         correct += predicted.eq(targets).sum().item()\n",
    "        \n",
    "        tk.set_postfix({'Train - Loss' : loss.item(), '& ACC':100.*correct/total})\n",
    "    \n",
    "    return 100.*correct/total, train_loss/total"
   ]
  },
  {
   "cell_type": "markdown",
   "id": "a889e482-5ce4-4161-a3ec-a1b62d9ccf95",
   "metadata": {},
   "source": [
    "# 3 Test"
   ]
  },
  {
   "cell_type": "code",
   "execution_count": 17,
   "id": "fd4413ca-15a9-433c-8dea-d5be884b55cc",
   "metadata": {},
   "outputs": [],
   "source": [
    "def test(model, criterion, epoch, cycle):\n",
    "    global best_acc, DATASET\n",
    "    model.eval()\n",
    "    test_loss = 0\n",
    "    correct = 0\n",
    "    total = 0\n",
    "    with torch.no_grad():\n",
    "        tk = tqdm(testloader, total=len(testloader))\n",
    "#         for batch_idx, (inputs, targets) in enumerate(testloader):\n",
    "        for inputs, targets in tk:\n",
    "            inputs, targets = inputs.to(device), targets.to(device)\n",
    "            out, loss = model(inputs, targets, criterion=criterion)\n",
    "            \n",
    "            test_loss += loss.item()\n",
    "            predicted = predict(out.permute(1, 2, 0).max(1)[1])\n",
    "            total += targets.size(0) #* 5\n",
    "            \n",
    "#             return predicted, targets\n",
    "        \n",
    "            for i in range(len(predicted)):\n",
    "                correct += torch.equal(predicted[i], targets[i])\n",
    "#             correct += predicted.eq(targets).sum().item()/5\n",
    "\n",
    "            tk.set_postfix({'Test - Loss' : loss.item(), '& ACC':100.*correct/total})\n",
    "\n",
    "    # Save checkpoint.\n",
    "    acc = 100.*correct/total\n",
    "#     if acc > best_acc:\n",
    "#         print('Saving..')\n",
    "#         state = {\n",
    "#             'model': model.state_dict(),\n",
    "#             'acc': acc,\n",
    "#             'epoch': epoch,\n",
    "#         }\n",
    "#         if not os.path.isdir('checkpoint'):\n",
    "#             os.mkdir('checkpoint')\n",
    "#         # save rotation weights\n",
    "#         torch.save(state, './checkpoint/main_'+DATASET+'_'+str(cycle)+'.pth')\n",
    "#         best_acc = acc\n",
    "    \n",
    "    return acc, test_loss/total"
   ]
  },
  {
   "cell_type": "markdown",
   "id": "22a65967-20b9-4e82-8c2a-b45cea20cc64",
   "metadata": {},
   "source": [
    "# 4 Run"
   ]
  },
  {
   "cell_type": "code",
   "execution_count": 18,
   "id": "2feca33c-bedc-48cb-bb0f-4eda60133052",
   "metadata": {},
   "outputs": [],
   "source": [
    "slice_num =2500"
   ]
  },
  {
   "cell_type": "code",
   "execution_count": 19,
   "id": "92c25ea1-6408-4cdc-b597-7f0f20ef3c40",
   "metadata": {},
   "outputs": [],
   "source": [
    "# confidence sampling (pseudo labeling)\n",
    "## return 1k samples w/ lowest top1 score\n",
    "def get_plabels2(model, samples, cycle):\n",
    "    sub_dataset = Loader_Captcha_active(is_train=False,  transform=transform, path_list=samples)\n",
    "    ploader = torch.utils.data.DataLoader(sub_dataset, batch_size=1, shuffle=False)\n",
    "\n",
    "    top1_scores = []\n",
    "    model.eval()\n",
    "    with torch.no_grad():\n",
    "        tk = tqdm(ploader, total=len(ploader))\n",
    "        for inputs, targets in tk:\n",
    "            inputs, targets = inputs.to(device), targets.to(device)\n",
    "            out, loss = model(inputs, targets, criterion=nn.CTCLoss())\n",
    "            predicted = predict(out.permute(1, 2, 0).max(1)[1])\n",
    "            \n",
    "            # save top1 confidence score \n",
    "            outputs = F.normalize(out.permute(1, 2, 0), dim=1)\n",
    "            probs = F.softmax(out.permute(1, 2, 0), dim=1)\n",
    "\n",
    "            # our ouput num is 5 >> mean >> max  (가장 높은 값을 뽑아 낮은 data로 정렬) \n",
    "            top1_scores.append(np.mean(probs[0][predicted.cpu()].tolist()[0], axis=0).max())\n",
    "    idx = np.argsort(top1_scores)\n",
    "#     return idx\n",
    "    samples = np.array(samples)\n",
    "    return samples[idx[:slice_num]]"
   ]
  },
  {
   "cell_type": "code",
   "execution_count": 20,
   "id": "5ade95a1-2788-4786-b143-9daaa58a76d0",
   "metadata": {},
   "outputs": [],
   "source": [
    "def main():\n",
    "    labeled=[]\n",
    "    CYCLES = len(glob.glob('./loss_'+DATASET+'/batch_*.txt'))\n",
    "\n",
    "    history_train = {'acc':[[] for i in range(CYCLES)], 'loss':[[] for i in range(CYCLES)]}\n",
    "    history_test = {'acc':[[] for i in range(CYCLES)], 'loss':[[] for i in range(CYCLES)]}\n",
    "    \n",
    "    model = CRNN(in_channels=1, output=num_class)\n",
    "    model = model.to(device)\n",
    "    criterion = nn.CTCLoss() #nn.CrossEntropyLoss()\n",
    "    optimizer = optim.Adam(model.parameters(), lr=1e-3) # optim.SGD(net.parameters(), lr=0.1, momentum=0.9, weight_decay=5e-4)\n",
    "\n",
    "    for cycle in range(CYCLES):\n",
    "    #     ipd.clear_output(wait=True)\n",
    "        scheduler = torch.optim.lr_scheduler.MultiStepLR(optimizer, milestones=[160])\n",
    "\n",
    "        best_acc = 0\n",
    "    #     print('Cycle ', cycle)\n",
    "\n",
    "        # open mini batch (sorted low->high)\n",
    "        with open('./loss_'+DATASET+'/batch_' + str(cycle) + '.txt', 'r') as f:\n",
    "            samples = f.readlines()[:-2]\n",
    "        samples = [s_path[:-1] for s_path in samples] #  \\n 지우기\n",
    "\n",
    "        if cycle > 0:\n",
    "            print('>> Getting previous checkpoint')\n",
    "    #         checkpoint = torch.load(f'./checkpoint/main_{DATASET}_{cycle-1}.pth')\n",
    "    #         model.load_state_dict(checkpoint['model'])\n",
    "\n",
    "            # sampling\n",
    "            sample_sort = get_plabels2(model, samples, cycle)\n",
    "        else:\n",
    "            # first iteration: sample 1k at even intervals\n",
    "            samples = np.array(samples)\n",
    "            random.shuffle(samples)\n",
    "            sample_sort = samples[:slice_num]\n",
    "        # add 1k samples to labeled set\n",
    "        labeled.extend(sample_sort)\n",
    "    #     print(labeled[-1])\n",
    "        print(f'>> Labeled length: {len(labeled)}')\n",
    "        activeset = Loader_Captcha_active(is_train=False,  transform=transform, path_list=labeled)\n",
    "        trainloader = torch.utils.data.DataLoader(activeset, batch_size=10, shuffle=True)\n",
    "\n",
    "        model = CRNN(in_channels=1, output=num_class)\n",
    "        model = model.to(device)\n",
    "        criterion = nn.CTCLoss() #nn.CrossEntropyLoss()\n",
    "        optimizer = optim.Adam(model.parameters(), lr=1e-3) # optim.SGD(net.parameters(), lr=0.1, momentum=0.9, weight_decay=5e-4)\n",
    "        # scheduler = torch.optim.lr_scheduler.MultiStepLR(optimizer, milestones=[30, 60, 90])\n",
    "        # print(net)\n",
    "\n",
    "    #     for m in model.modules():\n",
    "    #         if isinstance(m, nn.Conv2d):\n",
    "    #             m.reset_parameters()\n",
    "    #         elif isinstance(m, nn.BatchNorm2d):\n",
    "    #             m.reset_parameters()\n",
    "    #         elif isinstance(m, nn.Linear):\n",
    "    #             m.reset_parameters()\n",
    "    #         elif isinstance(m, nn.BatchNorm1d):\n",
    "    #             m.reset_parameters()\n",
    "    #         elif isinstance(m, nn.LSTM):\n",
    "    #             m.reset_parameters()\n",
    "\n",
    "        for epoch in range(50):\n",
    "            ipd.clear_output(wait=True)\n",
    "            print('Cycle ', cycle)\n",
    "            print(f'>> Labeled length: {len(labeled)}')\n",
    "\n",
    "            acc, loss = train(model, criterion, optimizer, epoch, trainloader)\n",
    "            history_train['acc'][cycle].append(acc)\n",
    "            history_train['loss'][cycle].append(loss)\n",
    "\n",
    "            acc, loss = test(model, criterion, epoch, cycle)\n",
    "            history_test['acc'][cycle].append(acc)\n",
    "            history_test['loss'][cycle].append(loss)\n",
    "\n",
    "    #         train(model, criterion, optimizer, epoch, trainloader)\n",
    "    #         test(model, criterion, epoch, cycle)\n",
    "            scheduler.step()\n",
    "        with open(f'./main_best'+DATASET+'.txt', 'a') as f:\n",
    "            f.write(str(cycle) + ' ' + str(best_acc)+'\\n')"
   ]
  },
  {
   "cell_type": "code",
   "execution_count": null,
   "id": "7a15942f-82bc-4791-b994-f07517fb9435",
   "metadata": {},
   "outputs": [
    {
     "name": "stdout",
     "output_type": "stream",
     "text": [
      "Cycle  1\n",
      ">> Labeled length: 5000\n",
      "\n",
      "Epoch: 49\n"
     ]
    },
    {
     "name": "stderr",
     "output_type": "stream",
     "text": [
      "100%|█████████| 500/500 [01:19<00:00,  6.26it/s, Train - Loss=0.826, & ACC=26.4]\n",
      "100%|█████████████| 125/125 [00:06<00:00, 20.14it/s, Test - Loss=1.9, & ACC=2.6]\n"
     ]
    },
    {
     "name": "stdout",
     "output_type": "stream",
     "text": [
      ">> Getting previous checkpoint\n"
     ]
    },
    {
     "name": "stderr",
     "output_type": "stream",
     "text": [
      " 41%|███████████████▊                       | 2030/4998 [00:29<00:43, 68.65it/s]"
     ]
    }
   ],
   "source": [
    "main()"
   ]
  },
  {
   "cell_type": "raw",
   "id": "952a9368-cd53-4c63-9655-fe89cd37411d",
   "metadata": {
    "jupyter": {
     "source_hidden": true
    },
    "tags": []
   },
   "source": [
    "history_train\n",
    "{'acc': [[0.0, 0.0, 0.0, 0.0, 0.0, 0.0, 0.0, 0.0, 0.0, 0.0],\n",
    "  [17.24550898203593,\n",
    "   21.55688622754491,\n",
    "   25.24950099800399,\n",
    "   28.982035928143713,\n",
    "   33.45309381237525,\n",
    "   37.30538922155689,\n",
    "   42.09580838323353,\n",
    "   46.846307385229544,\n",
    "   50.69860279441118,\n",
    "   55.68862275449102],\n",
    "  [21.503659347970725,\n",
    "   26.147704590818364,\n",
    "   31.61676646706587,\n",
    "   37.91084497671324,\n",
    "   45.056553559547574,\n",
    "   52.09580838323353,\n",
    "   58.003992015968066,\n",
    "   65.58882235528942,\n",
    "   68.64936793080506,\n",
    "   75.06320691949435],\n",
    "  [42.56487025948104,\n",
    "   49.920159680638726,\n",
    "   56.9560878243513,\n",
    "   64.03193612774452,\n",
    "   69.82035928143712,\n",
    "   74.40119760479043,\n",
    "   78.15369261477046,\n",
    "   79.67065868263474,\n",
    "   81.91616766467065,\n",
    "   83.53293413173652],\n",
    "  [44.750499001996005,\n",
    "   53.237524950099804,\n",
    "   61.19760479041916,\n",
    "   68.84630738522954,\n",
    "   73.28542914171656,\n",
    "   76.85429141716567,\n",
    "   79.3932135728543,\n",
    "   81.35728542914171,\n",
    "   82.93013972055888,\n",
    "   84.76646706586827],\n",
    "  [68.8356620093147,\n",
    "   73.14038589487691,\n",
    "   77.71124417831005,\n",
    "   81.6833000665336,\n",
    "   84.55755156353959],\n",
    "  [],\n",
    "  [],\n",
    "  [],\n",
    "  []],\n",
    " 'loss': [[0.08397499882056565,\n",
    "   0.0841044081423335,\n",
    "   0.0846880513988807,\n",
    "   0.08440858408838452,\n",
    "   0.08440196623583278,\n",
    "   0.08418550586510086,\n",
    "   0.08447557932840374,\n",
    "   0.08474991878349623,\n",
    "   0.08481131494640114,\n",
    "   0.08463782902487262],\n",
    "  [0.07362746935404703,\n",
    "   0.06537176758467318,\n",
    "   0.0602986885402017,\n",
    "   0.05512435752712562,\n",
    "   0.05080282271741155,\n",
    "   0.04619847313610617,\n",
    "   0.04193576748023728,\n",
    "   0.038099217581415844,\n",
    "   0.03432791112901684,\n",
    "   0.03179567619236168],\n",
    "  [0.0640484855719114,\n",
    "   0.0571520214467864,\n",
    "   0.05100628991802771,\n",
    "   0.04470792080034673,\n",
    "   0.03955800856103599,\n",
    "   0.03438816034666951,\n",
    "   0.03056851960941703,\n",
    "   0.027165179223278248,\n",
    "   0.025099144748109068,\n",
    "   0.021930838586962074],\n",
    "  [0.04700388505073365,\n",
    "   0.03968496546297968,\n",
    "   0.03370844546906249,\n",
    "   0.029420754016040565,\n",
    "   0.026397226503985134,\n",
    "   0.023409895279152902,\n",
    "   0.02155620940550121,\n",
    "   0.020445843073660267,\n",
    "   0.018906437788537876,\n",
    "   0.017951709595685473],\n",
    "  [0.04670108619088422,\n",
    "   0.038456141051656,\n",
    "   0.03178914552677178,\n",
    "   0.027267212929601915,\n",
    "   0.0240440784718938,\n",
    "   0.022185676308449157,\n",
    "   0.020990132086291285,\n",
    "   0.019640036014739626,\n",
    "   0.018761941191857447,\n",
    "   0.017764368176222324],\n",
    "  [0.03376889071778623,\n",
    "   0.027184837366530518,\n",
    "   0.022582230551871,\n",
    "   0.01943158127035368,\n",
    "   0.017896623841188824],\n",
    "  [],\n",
    "  [],\n",
    "  [],\n",
    "  []]}"
   ]
  },
  {
   "cell_type": "raw",
   "id": "33441740-4141-4be4-a451-e935c337cada",
   "metadata": {
    "jupyter": {
     "source_hidden": true
    },
    "tags": []
   },
   "source": [
    "history_test\n",
    "{'acc': [[0.0, 0.0, 0.0, 0.0, 0.0, 0.0, 0.0, 0.0, 0.0, 0.0],\n",
    "  [3.42, 3.72, 3.68, 4.08, 3.5, 3.66, 3.76, 3.08, 3.62, 3.6],\n",
    "  [4.28, 4.08, 4.08, 4.6, 4.3, 4.72, 3.64, 4.64, 4.22, 3.74],\n",
    "  [4.04, 5.46, 4.36, 4.3, 4.68, 4.5, 4.46, 4.8, 5.02, 5.0],\n",
    "  [3.72, 5.42, 5.44, 4.58, 5.16, 4.86, 4.66, 5.88, 4.98, 5.34],\n",
    "  [4.32, 5.28, 5.72, 5.48, 4.58],\n",
    "  [],\n",
    "  [],\n",
    "  [],\n",
    "  []],\n",
    " 'loss': [[0.10497111477851867,\n",
    "   0.10530384569168091,\n",
    "   0.10491630783081055,\n",
    "   0.10565882792472839,\n",
    "   0.10512668142318726,\n",
    "   0.1062412223815918,\n",
    "   0.10609767336845398,\n",
    "   0.10542833290100098,\n",
    "   0.10559376626014709,\n",
    "   0.1052590829372406],\n",
    "  [0.10276662006378173,\n",
    "   0.1334481029510498,\n",
    "   0.11587086734771729,\n",
    "   0.12422825412750244,\n",
    "   0.11798265762329102,\n",
    "   0.1126468807220459,\n",
    "   0.1228797833442688,\n",
    "   0.1345913152694702,\n",
    "   0.11994651355743408,\n",
    "   0.14541613903045655],\n",
    "  [0.11704231929779053,\n",
    "   0.10879618701934815,\n",
    "   0.11058969841003417,\n",
    "   0.13116349210739137,\n",
    "   -0.16198013958930968,\n",
    "   0.13285542726516725,\n",
    "   0.12459401683807374,\n",
    "   0.1562879141807556,\n",
    "   0.141337481880188,\n",
    "   0.1579987783432007],\n",
    "  [0.05927593789100647,\n",
    "   0.26578592462539674,\n",
    "   0.1417217043876648,\n",
    "   0.14526871881484985,\n",
    "   0.10562895908355713,\n",
    "   -0.20127644357681274,\n",
    "   0.14766477336883546,\n",
    "   0.14608629150390626,\n",
    "   0.14217084302902222,\n",
    "   0.14836067924499513],\n",
    "  [-0.33104123477935793,\n",
    "   0.1317477053642273,\n",
    "   0.1251677816390991,\n",
    "   0.11227776660919189,\n",
    "   0.14423834743499755,\n",
    "   0.15133409986495971,\n",
    "   -0.11899466872215271,\n",
    "   0.1506810851097107,\n",
    "   0.14483873357772828,\n",
    "   0.15955787858963014],\n",
    "  [-0.44769015808105467,\n",
    "   0.14818797912597656,\n",
    "   0.1393591899394989,\n",
    "   0.1522042568206787,\n",
    "   -0.4227840383529663],\n",
    "  [],\n",
    "  [],\n",
    "  [],\n",
    "  []]}"
   ]
  },
  {
   "cell_type": "code",
   "execution_count": null,
   "id": "5c105e6a-09fb-4a00-97a2-306d0c8f269e",
   "metadata": {},
   "outputs": [],
   "source": []
  }
 ],
 "metadata": {
  "kernelspec": {
   "display_name": "halp",
   "language": "python",
   "name": "halp"
  },
  "language_info": {
   "codemirror_mode": {
    "name": "ipython",
    "version": 3
   },
   "file_extension": ".py",
   "mimetype": "text/x-python",
   "name": "python",
   "nbconvert_exporter": "python",
   "pygments_lexer": "ipython3",
   "version": "3.7.0"
  }
 },
 "nbformat": 4,
 "nbformat_minor": 5
}
