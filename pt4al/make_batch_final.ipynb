{
 "cells": [
  {
   "cell_type": "code",
   "execution_count": 3,
   "id": "e3548dbc-7003-473c-9af8-bb1d54fe2e29",
   "metadata": {},
   "outputs": [],
   "source": [
    "import torch\n",
    "import torch.nn as nn\n",
    "import torch.optim as optim\n",
    "import torch.nn.functional as F\n",
    "import torch.backends.cudnn as cudnn\n",
    "\n",
    "import torchvision\n",
    "import torchvision.transforms as T\n",
    "\n",
    "import os\n",
    "import random\n",
    "\n",
    "# from models import *\n",
    "# from loader import Loader, RotationLoader\n",
    "# from utils import progress_bar\n",
    "import numpy as np\n",
    "\n",
    "import string\n",
    "import glob \n",
    "from PIL import Image\n",
    "from torch.utils.data import Dataset, DataLoader\n",
    "import cv2\n",
    "from sklearn.model_selection import train_test_split\n",
    "from tqdm import tqdm"
   ]
  },
  {
   "cell_type": "markdown",
   "id": "0338add3-af39-4466-960f-47c0b20ee6cb",
   "metadata": {},
   "source": [
    "# 1 Setting"
   ]
  },
  {
   "cell_type": "markdown",
   "id": "a572b1db-bb1d-49fb-be81-f3512bbfff4f",
   "metadata": {},
   "source": [
    "## 1.1 Argument"
   ]
  },
  {
   "cell_type": "code",
   "execution_count": 4,
   "id": "70b4993b-545f-476d-b5dc-00b329bf64f8",
   "metadata": {},
   "outputs": [
    {
     "name": "stdout",
     "output_type": "stream",
     "text": [
      "cuda\n"
     ]
    }
   ],
   "source": [
    "device = 'cuda' if torch.cuda.is_available() else 'cpu'\n",
    "print(device)"
   ]
  },
  {
   "cell_type": "code",
   "execution_count": 5,
   "id": "e6b94244-52a4-41d3-9ad6-7775fc84e57b",
   "metadata": {},
   "outputs": [],
   "source": [
    "best_acc = 0 # best test acc\n",
    "start_epoch = 0 # start from epoch 0 OR checkpoint epoch"
   ]
  },
  {
   "cell_type": "markdown",
   "id": "e93a41b1-759d-4482-bad2-562b7fbbcbcd",
   "metadata": {},
   "source": [
    "## 1.2 Data"
   ]
  },
  {
   "cell_type": "code",
   "execution_count": 6,
   "id": "2f3a9d9b-d833-4e6e-a85d-bd522f7383f8",
   "metadata": {},
   "outputs": [],
   "source": [
    "DATASET = 'Large_Captcha'"
   ]
  },
  {
   "cell_type": "code",
   "execution_count": 7,
   "id": "04573ed5-ae78-451f-8976-71079045bd72",
   "metadata": {},
   "outputs": [
    {
     "data": {
      "text/plain": [
       "62"
      ]
     },
     "execution_count": 7,
     "metadata": {},
     "output_type": "execute_result"
    }
   ],
   "source": [
    "all_letters = string.ascii_lowercase + string.digits + string.ascii_uppercase\n",
    "\n",
    "mapping = {}      # key - num    & value - letter\n",
    "mapping_inv = {}  # key - letter & value - num\n",
    "\n",
    "for i, x in enumerate(all_letters):\n",
    "    mapping[x] = i+1\n",
    "    mapping_inv[i+1] = x\n",
    "\n",
    "num_class = len(mapping)\n",
    "num_class"
   ]
  },
  {
   "cell_type": "code",
   "execution_count": 6,
   "id": "48b2fad9-c852-4e3e-9326-baad0066e448",
   "metadata": {},
   "outputs": [],
   "source": [
    "class Loader_Captcha(Dataset):\n",
    "    def __init__(self, is_train=True, transform=None):\n",
    "        self.is_train = is_train\n",
    "        self.transform = transform\n",
    "        self.img_path = glob.glob('/data/jh/datasets/Large_Captcha_Dataset/*.png')\n",
    "\n",
    "    def __len__(self):\n",
    "        return len(self.img_path)\n",
    "\n",
    "    def __getitem__(self, idx):\n",
    "        #img = cv2.imread(self.img_path[idx])\n",
    "        #img = Image.fromarray(img)\n",
    "        img = Image.open(self.img_path[idx]).convert('L')\n",
    "        if self.transform is not None:\n",
    "            img = self.transform(img)\n",
    "        \n",
    "        img_name = self.img_path[idx].split('/')[-1]\n",
    "        label = torch.IntTensor([mapping[i] for i in img_name.split('.')[0]]) #int(self.img_path[idx].split('/')[-1])\n",
    "        \n",
    "        return img, label"
   ]
  },
  {
   "cell_type": "raw",
   "id": "dcd9cb9d-5af3-4b15-b0e2-4affded23f40",
   "metadata": {},
   "source": [
    "transform_train = transforms.Compose([\n",
    "    transforms.RandomCrop(32, padding=4),\n",
    "    transforms.RandomHorizontalFlip(),\n",
    "    transforms.ToTensor(),\n",
    "    transforms.Normalize((0.4914, 0.4822, 0.4465), (0.2023, 0.1994, 0.2010))\n",
    "])"
   ]
  },
  {
   "cell_type": "raw",
   "id": "66b69758-07b6-466b-a0a1-d062dda4d924",
   "metadata": {},
   "source": [
    "transform_test = transforms.Compose([\n",
    "    transforms.ToTensor(),\n",
    "    transforms.Normalize((0.4914, 0.4822, 0.4465), (0.2023, 0.1994, 0.2010)),\n",
    "])"
   ]
  },
  {
   "cell_type": "code",
   "execution_count": 7,
   "id": "d21f40c4-56ab-4bbe-935a-cba184638b78",
   "metadata": {},
   "outputs": [],
   "source": [
    "transform = T.Compose([\n",
    "    T.ToTensor()\n",
    "])"
   ]
  },
  {
   "cell_type": "markdown",
   "id": "09316b2e-ddd2-4817-98f1-048e607809a2",
   "metadata": {},
   "source": [
    "## Save a testset for active learning"
   ]
  },
  {
   "cell_type": "raw",
   "id": "abdcd413-8bd0-450f-a6bb-3620c72863bd",
   "metadata": {},
   "source": [
    "dataset = Loader_Captcha(is_train=True, transform=transform)\n",
    "trainset, testset = train_test_split(dataset, test_size=0.2, shuffle=True)"
   ]
  },
  {
   "cell_type": "raw",
   "id": "06d0096b-20fe-4064-af8f-97fd5db5d71f",
   "metadata": {},
   "source": [
    "import pickle\n",
    "with open('./trainset.pkl', 'wb') as f:\n",
    "    pickle.dump(trainset, f)\n",
    "with open('./testset.pkl', 'wb') as f:\n",
    "    pickle.dump(testset, f)"
   ]
  },
  {
   "cell_type": "markdown",
   "id": "46b271be-a6de-464e-b4bb-5c0fa534105c",
   "metadata": {},
   "source": [
    "## if have a pkl file, load the file."
   ]
  },
  {
   "cell_type": "code",
   "execution_count": 8,
   "id": "7dcf8959-0879-4ca0-90e1-d49f0c806f36",
   "metadata": {},
   "outputs": [
    {
     "data": {
      "text/plain": [
       "65862"
      ]
     },
     "execution_count": 8,
     "metadata": {},
     "output_type": "execute_result"
    }
   ],
   "source": [
    "import pickle\n",
    "trainset = []\n",
    "with open('./trainset.pkl', 'rb') as f:\n",
    "    trainset = pickle.load(f)\n",
    "len(trainset)"
   ]
  },
  {
   "cell_type": "code",
   "execution_count": 9,
   "id": "39dc58be-d360-4925-b162-a30580ded271",
   "metadata": {},
   "outputs": [
    {
     "data": {
      "text/plain": [
       "65862"
      ]
     },
     "execution_count": 9,
     "metadata": {},
     "output_type": "execute_result"
    }
   ],
   "source": [
    "trainloader = torch.utils.data.DataLoader(trainset, batch_size=16, shuffle=True)\n",
    "testloader  = torch.utils.data.DataLoader(trainset,  batch_size=8,  shuffle=False) # > trainset으로 변경해야 함. (active에 영향을 안주기위해서)\n",
    "len(testloader.dataset)"
   ]
  },
  {
   "cell_type": "markdown",
   "id": "5fc955c4-8859-4728-b5a4-90e31c06b227",
   "metadata": {},
   "source": [
    "## 1.2 Model"
   ]
  },
  {
   "cell_type": "code",
   "execution_count": 10,
   "id": "715140b1-e5f5-4bb3-b0d4-eb1d40ed128b",
   "metadata": {},
   "outputs": [],
   "source": [
    "class Bidirectional(nn.Module):\n",
    "    def __init__(self, inp, hidden, out, lstm=True):\n",
    "        super(Bidirectional, self).__init__()\n",
    "        if lstm:\n",
    "            self.rnn = nn.LSTM(inp, hidden, bidirectional=True)\n",
    "        else:\n",
    "            self.rnn = nn.GRU(inp, hidden, bidirectional=True)\n",
    "        self.embedding = nn.Linear(hidden*2, out)\n",
    "    def forward(self, X):\n",
    "        recurrent, _ = self.rnn(X)\n",
    "        out = self.embedding(recurrent)     \n",
    "        return out"
   ]
  },
  {
   "cell_type": "code",
   "execution_count": 11,
   "id": "aae36e4c-03ba-40db-b0e2-637db26caaa8",
   "metadata": {},
   "outputs": [],
   "source": [
    "class CRNN(nn.Module):\n",
    "    def __init__(self, in_channels, output):\n",
    "        super(CRNN, self).__init__()\n",
    "\n",
    "        self.cnn = nn.Sequential(\n",
    "                nn.Conv2d(in_channels, 256, 9, stride=1, padding=1),\n",
    "                nn.ReLU(),\n",
    "                nn.BatchNorm2d(256),\n",
    "                nn.MaxPool2d(3, 3),\n",
    "                nn.Conv2d(256, 256, (4, 3), stride=1, padding=1),\n",
    "                nn.ReLU(),\n",
    "                nn.BatchNorm2d(256))\n",
    "        \n",
    "        self.linear = nn.Linear(20992, 256)\n",
    "        self.bn1 = nn.BatchNorm1d(256)\n",
    "        self.rnn = Bidirectional(256, 1024, output+1)\n",
    "\n",
    "    def forward(self, X, y=None, criterion = None): # y is target.\n",
    "        out = self.cnn(X)\n",
    "        N, C, w, h = out.size()\n",
    "        out = out.view(N, -1, h)\n",
    "        out = out.permute(0, 2, 1)\n",
    "        out = self.linear(out)\n",
    "\n",
    "        out = out.permute(1, 0, 2)\n",
    "        out = self.rnn(out)\n",
    "            \n",
    "        if y is not None:\n",
    "            T = out.size(0)\n",
    "            N = out.size(1)\n",
    "        \n",
    "            input_lengths = torch.full(size=(N,), fill_value=T, dtype=torch.int32)\n",
    "            target_lengths = torch.full(size=(N,), fill_value=5, dtype=torch.int32)\n",
    "        \n",
    "            loss = criterion(out, y, input_lengths, target_lengths)\n",
    "            \n",
    "            return out, loss\n",
    "        \n",
    "        return out, None\n",
    "    \n",
    "    def _ConvLayer(self, inp, out, kernel, stride, padding, bn=False):\n",
    "        if bn:\n",
    "            conv = [\n",
    "                nn.Conv2d(inp, out, kernel, stride=stride, padding=padding),\n",
    "                nn.ReLU(),\n",
    "                nn.BatchNorm2d(out)\n",
    "            ]\n",
    "        else:\n",
    "            conv = [\n",
    "                nn.Conv2d(inp, out, kernel, stride=stride, padding=padding),\n",
    "                nn.ReLU()\n",
    "            ]\n",
    "        return nn.Sequential(*conv)"
   ]
  },
  {
   "cell_type": "code",
   "execution_count": 12,
   "id": "549bf3d4-a97c-462c-912c-1dc4a52d9d01",
   "metadata": {},
   "outputs": [],
   "source": [
    "model = CRNN(in_channels=1, output=num_class)\n",
    "model = model.to(device)\n",
    "# print(net)"
   ]
  },
  {
   "cell_type": "code",
   "execution_count": 13,
   "id": "493aeb60-84a4-4bfb-b254-3b018589f631",
   "metadata": {},
   "outputs": [],
   "source": [
    "if device == 'cuda':\n",
    "    #net = torch.nn.DataParallel(net) # 문현안쓸때만쓰기... 나는 0\n",
    "    cudnn.benchmark = True"
   ]
  },
  {
   "cell_type": "code",
   "execution_count": 14,
   "id": "cf6c62f9-629c-4650-95e9-26ec826d98f6",
   "metadata": {},
   "outputs": [],
   "source": [
    "criterion = nn.CTCLoss() #nn.CrossEntropyLoss()\n",
    "optimizer = optim.Adam(model.parameters(), lr=1e-4) # optim.SGD(net.parameters(), lr=0.1, momentum=0.9, weight_decay=5e-4)\n",
    "scheduler = torch.optim.lr_scheduler.MultiStepLR(optimizer, milestones=[30, 60, 90])"
   ]
  },
  {
   "cell_type": "markdown",
   "id": "671535f9-1358-48ca-8954-5b2ee910490b",
   "metadata": {},
   "source": [
    "# 2 Training"
   ]
  },
  {
   "cell_type": "code",
   "execution_count": 15,
   "id": "c053095b-3c96-435e-88a8-25bc381f743c",
   "metadata": {},
   "outputs": [],
   "source": [
    "def predict(outputs):\n",
    "    result = []\n",
    "    for i in range(len(outputs)):\n",
    "        pred = []\n",
    "        then = 0\n",
    "        for x in outputs[i]:\n",
    "            if then != x and x > 0 :\n",
    "                pred.append(x)\n",
    "                if len(pred) == 5:\n",
    "                    break\n",
    "            then = x\n",
    "        if len(pred) < 5:\n",
    "            for i in range(5-len(pred)):\n",
    "                pred.append(0)\n",
    "        result.append(pred)\n",
    "    result = torch.LongTensor(result).cuda()\n",
    "    return result"
   ]
  },
  {
   "cell_type": "code",
   "execution_count": 16,
   "id": "1f6d6106-36b3-4f11-bcd7-90da7eaaa61a",
   "metadata": {},
   "outputs": [],
   "source": [
    "def train(epoch):\n",
    "    print('\\nEpoch: %d' % epoch)\n",
    "    model.train()\n",
    "    train_loss = 0\n",
    "    correct = 0\n",
    "    total = 0\n",
    "    \n",
    "    tk = tqdm(trainloader, total=len(trainloader))\n",
    "    #for batch_idx, (inputs, targets) in enumerate(trainloader):\n",
    "    for inputs, targets in tk:\n",
    "        inputs, targets = inputs.to(device), targets.to(device)\n",
    "        optimizer.zero_grad()\n",
    "        \n",
    "        out, loss = model(inputs, targets, criterion=criterion)\n",
    "        loss.backward()\n",
    "        optimizer.step()\n",
    "        \n",
    "        train_loss += loss.item()\n",
    "        predicted = predict(out.permute(1, 2, 0).max(1)[1])\n",
    "        total += targets.size(0) * 5\n",
    "        correct += predicted.eq(targets).sum().item()\n",
    "        \n",
    "        tk.set_postfix({'Train - Loss' : loss.item(), '& ACC':100.*correct/total})"
   ]
  },
  {
   "cell_type": "markdown",
   "id": "a889e482-5ce4-4161-a3ec-a1b62d9ccf95",
   "metadata": {},
   "source": [
    "# 3 Test"
   ]
  },
  {
   "cell_type": "code",
   "execution_count": 17,
   "id": "fd4413ca-15a9-433c-8dea-d5be884b55cc",
   "metadata": {},
   "outputs": [],
   "source": [
    "def test(epoch):\n",
    "    global best_acc, DATASET\n",
    "    model.eval()\n",
    "    test_loss = 0\n",
    "    correct = 0\n",
    "    total = 0\n",
    "    with torch.no_grad():\n",
    "        tk = tqdm(testloader, total=len(testloader))\n",
    "#         for batch_idx, (inputs, targets) in enumerate(testloader):\n",
    "        for inputs, targets in tk:\n",
    "            inputs, targets = inputs.to(device), targets.to(device)\n",
    "            out, loss = model(inputs, targets, criterion=criterion)\n",
    "            \n",
    "            test_loss += loss.item()\n",
    "            predicted = predict(out.permute(1, 2, 0).max(1)[1])\n",
    "            total += targets.size(0) * 5\n",
    "            correct += predicted.eq(targets).sum().item()\n",
    "\n",
    "            tk.set_postfix({'Test - Loss' : loss.item(), '& ACC':100.*correct/total})\n",
    "\n",
    "    # Save checkpoint.\n",
    "    acc = 100.*correct/total\n",
    "    with open('./best_test_'+DATASET+'.txt','a') as f:\n",
    "        f.write(str(acc)+'/'+str(test_loss)+':'+str(epoch)+'\\n')\n",
    "    if acc > best_acc:\n",
    "        print('Saving..')\n",
    "        state = {\n",
    "            'model': model.state_dict(),\n",
    "            'acc': acc,\n",
    "            'epoch': epoch,\n",
    "        }\n",
    "        if not os.path.isdir('checkpoint'):\n",
    "            os.mkdir('checkpoint')\n",
    "        # save rotation weights\n",
    "        torch.save(state, './checkpoint/test_'+DATASET+'.pth')\n",
    "        best_acc = acc"
   ]
  },
  {
   "cell_type": "markdown",
   "id": "22a65967-20b9-4e82-8c2a-b45cea20cc64",
   "metadata": {},
   "source": [
    "# 4 Run"
   ]
  },
  {
   "cell_type": "code",
   "execution_count": 18,
   "id": "cb407ad1-a94c-4e21-ba37-68bfec587f72",
   "metadata": {},
   "outputs": [
    {
     "name": "stdout",
     "output_type": "stream",
     "text": [
      "\n",
      "Epoch: 0\n"
     ]
    },
    {
     "name": "stderr",
     "output_type": "stream",
     "text": [
      "100%|████████| 4117/4117 [16:07<00:00,  4.26it/s, Train - Loss=1.12, & ACC=1.68]\n",
      "100%|███████████| 8233/8233 [07:10<00:00, 19.13it/s, Test - Loss=2.07, & ACC=30]\n"
     ]
    },
    {
     "name": "stdout",
     "output_type": "stream",
     "text": [
      "Saving..\n",
      "\n",
      "Epoch: 1\n"
     ]
    },
    {
     "name": "stderr",
     "output_type": "stream",
     "text": [
      "100%|██████| 4117/4117 [15:50<00:00,  4.33it/s, Train - Loss=-.0819, & ACC=87.2]\n",
      "100%|████████| 8233/8233 [06:42<00:00, 20.47it/s, Test - Loss=0.382, & ACC=96.2]\n"
     ]
    },
    {
     "name": "stdout",
     "output_type": "stream",
     "text": [
      "Saving..\n",
      "\n",
      "Epoch: 2\n"
     ]
    },
    {
     "name": "stderr",
     "output_type": "stream",
     "text": [
      "100%|███████| 4117/4117 [15:45<00:00,  4.35it/s, Train - Loss=0.192, & ACC=96.9]\n",
      "100%|████████| 8233/8233 [06:40<00:00, 20.54it/s, Test - Loss=0.378, & ACC=98.2]\n"
     ]
    },
    {
     "name": "stdout",
     "output_type": "stream",
     "text": [
      "Saving..\n",
      "\n",
      "Epoch: 3\n"
     ]
    },
    {
     "name": "stderr",
     "output_type": "stream",
     "text": [
      "100%|██████| 4117/4117 [15:45<00:00,  4.35it/s, Train - Loss=0.0264, & ACC=98.2]\n",
      "100%|████████| 8233/8233 [06:41<00:00, 20.49it/s, Test - Loss=0.134, & ACC=98.4]\n"
     ]
    },
    {
     "name": "stdout",
     "output_type": "stream",
     "text": [
      "Saving..\n",
      "\n",
      "Epoch: 4\n"
     ]
    },
    {
     "name": "stderr",
     "output_type": "stream",
     "text": [
      "100%|███████| 4117/4117 [15:45<00:00,  4.35it/s, Train - Loss=0.179, & ACC=98.7]\n",
      "100%|███████| 8233/8233 [06:41<00:00, 20.51it/s, Test - Loss=-.0634, & ACC=97.1]\n"
     ]
    },
    {
     "name": "stdout",
     "output_type": "stream",
     "text": [
      "\n",
      "Epoch: 5\n"
     ]
    },
    {
     "name": "stderr",
     "output_type": "stream",
     "text": [
      "100%|█████████| 4117/4117 [15:47<00:00,  4.35it/s, Train - Loss=-.146, & ACC=99]\n",
      "100%|██████████| 8233/8233 [06:41<00:00, 20.52it/s, Test - Loss=0.329, & ACC=99]\n"
     ]
    },
    {
     "name": "stdout",
     "output_type": "stream",
     "text": [
      "Saving..\n",
      "\n",
      "Epoch: 6\n"
     ]
    },
    {
     "name": "stderr",
     "output_type": "stream",
     "text": [
      "100%|██████| 4117/4117 [15:45<00:00,  4.35it/s, Train - Loss=0.0348, & ACC=99.2]\n",
      "100%|████████| 8233/8233 [06:41<00:00, 20.53it/s, Test - Loss=0.224, & ACC=99.2]\n"
     ]
    },
    {
     "name": "stdout",
     "output_type": "stream",
     "text": [
      "Saving..\n",
      "\n",
      "Epoch: 7\n"
     ]
    },
    {
     "name": "stderr",
     "output_type": "stream",
     "text": [
      "100%|███████| 4117/4117 [15:45<00:00,  4.35it/s, Train - Loss=0.096, & ACC=99.3]\n",
      "100%|███████| 8233/8233 [06:41<00:00, 20.52it/s, Test - Loss=-.0895, & ACC=99.4]\n"
     ]
    },
    {
     "name": "stdout",
     "output_type": "stream",
     "text": [
      "Saving..\n",
      "\n",
      "Epoch: 8\n"
     ]
    },
    {
     "name": "stderr",
     "output_type": "stream",
     "text": [
      "100%|██████| 4117/4117 [15:47<00:00,  4.35it/s, Train - Loss=-.0694, & ACC=99.4]\n",
      "100%|████████| 8233/8233 [06:41<00:00, 20.50it/s, Test - Loss=0.223, & ACC=99.3]\n"
     ]
    },
    {
     "name": "stdout",
     "output_type": "stream",
     "text": [
      "\n",
      "Epoch: 9\n"
     ]
    },
    {
     "name": "stderr",
     "output_type": "stream",
     "text": [
      "100%|██████| 4117/4117 [15:46<00:00,  4.35it/s, Train - Loss=-.0307, & ACC=99.5]\n",
      "100%|███████| 8233/8233 [06:42<00:00, 20.46it/s, Test - Loss=-.0195, & ACC=99.7]\n"
     ]
    },
    {
     "name": "stdout",
     "output_type": "stream",
     "text": [
      "Saving..\n"
     ]
    }
   ],
   "source": [
    "for epoch in range(start_epoch, start_epoch+10): # default : 120\n",
    "    train(epoch)\n",
    "    test(epoch)\n",
    "    scheduler.step()"
   ]
  },
  {
   "cell_type": "markdown",
   "id": "9db6f58e-6967-4759-bec9-38c068bb9988",
   "metadata": {},
   "source": [
    "# 5 Make batches >> batch size 1로 하고 진행 & trainset을 쪼개야 함"
   ]
  },
  {
   "cell_type": "code",
   "execution_count": 19,
   "id": "8a847b88-33a8-4464-af78-a4430262865d",
   "metadata": {},
   "outputs": [],
   "source": [
    "batchloader  = torch.utils.data.DataLoader(trainset,  batch_size=1,  shuffle=False)"
   ]
  },
  {
   "cell_type": "code",
   "execution_count": 20,
   "id": "0ea4e7ed-4f3b-4cd3-b1d2-b6c8e31a782d",
   "metadata": {},
   "outputs": [],
   "source": [
    "def make_batch():\n",
    "    global best_acc, DATASET\n",
    "    model.eval()\n",
    "    test_loss = 0\n",
    "    correct = 0\n",
    "    total = 0\n",
    "    \n",
    "    # 같은 이름 파일 초기화\n",
    "    with open('./make_batches_'+DATASET+'.txt','w') as f:\n",
    "        f.write('')\n",
    "\n",
    "    with torch.no_grad():\n",
    "        tk = tqdm(batchloader, total=len(batchloader))\n",
    "        for inputs, targets in tk:\n",
    "            inputs, targets = inputs.to(device), targets.to(device)\n",
    "            out, loss = model(inputs, targets, criterion=criterion)\n",
    "            \n",
    "            test_loss += loss.item()\n",
    "            predicted = predict(out.permute(1, 2, 0).max(1)[1])\n",
    "            total += targets.size(0) * 5\n",
    "            correct += predicted.eq(targets).sum().item()\n",
    "            \n",
    "            label = ''\n",
    "            for p in targets[0]:\n",
    "                label += mapping_inv[p.item()]\n",
    "            s = str(float(loss))+'_/data/jh/datasets/Large_Captcha_Dataset/'+label+'.png\\n'\n",
    "            with open('./make_batches_'+DATASET+'.txt','a') as f:\n",
    "                f.write(s)"
   ]
  },
  {
   "cell_type": "code",
   "execution_count": 21,
   "id": "8c6f8595-817f-4439-8726-91290d4234da",
   "metadata": {},
   "outputs": [
    {
     "name": "stderr",
     "output_type": "stream",
     "text": [
      "100%|█████████████████████████████████████| 65862/65862 [15:10<00:00, 72.37it/s]\n"
     ]
    }
   ],
   "source": [
    "make_batch()"
   ]
  },
  {
   "cell_type": "code",
   "execution_count": 8,
   "id": "39ced155-3ec9-4ce4-8ad2-a57d8a8c900e",
   "metadata": {},
   "outputs": [
    {
     "data": {
      "text/plain": [
       "65862"
      ]
     },
     "execution_count": 8,
     "metadata": {},
     "output_type": "execute_result"
    }
   ],
   "source": [
    "with open('./make_batches_'+DATASET+'.txt', 'r') as f:\n",
    "    losses = f.readlines()\n",
    "len(losses)"
   ]
  },
  {
   "cell_type": "code",
   "execution_count": 9,
   "id": "d8373b21-5abc-4c54-a4bd-ef2b17e9ec60",
   "metadata": {},
   "outputs": [
    {
     "data": {
      "text/plain": [
       "('0.032308224588632584', '/data/jh/datasets/Large_Captcha_Dataset/b9c23.png')"
      ]
     },
     "execution_count": 9,
     "metadata": {},
     "output_type": "execute_result"
    }
   ],
   "source": [
    "loss_1 = []\n",
    "name_2 = []\n",
    "for j in losses:\n",
    "    loss_1.append(j[:-1].split('_/')[0])\n",
    "    name_2.append('/'+j[:-1].split('_/')[1])\n",
    "loss_1[0], name_2[0]"
   ]
  },
  {
   "cell_type": "code",
   "execution_count": 10,
   "id": "b5f5cf71-219a-481d-9886-8e9e8c13e06b",
   "metadata": {},
   "outputs": [],
   "source": [
    "s = np.array(loss_1)\n",
    "sort_index = np.argsort(s)\n",
    "x = sort_index.tolist()\n",
    "x.reverse()\n",
    "sort_index = np.array(x) # convert to high loss first"
   ]
  },
  {
   "cell_type": "code",
   "execution_count": 15,
   "id": "1ecd0859-ae2e-4d21-8beb-13c19f87f717",
   "metadata": {},
   "outputs": [],
   "source": [
    "if not os.path.isdir('loss_'+DATASET):\n",
    "    os.mkdir('loss_'+DATASET)"
   ]
  },
  {
   "cell_type": "code",
   "execution_count": 16,
   "id": "fdcc6f6a-fe24-442d-9733-1b7ad520a4ae",
   "metadata": {},
   "outputs": [],
   "source": [
    "batch_file_size = 5000"
   ]
  },
  {
   "cell_type": "code",
   "execution_count": 17,
   "id": "34a35ff3-bbda-48e4-8a51-82c376a95488",
   "metadata": {},
   "outputs": [
    {
     "name": "stdout",
     "output_type": "stream",
     "text": [
      "0 Class Distribution: [5000.]\n",
      "1 Class Distribution: [5000.]\n",
      "2 Class Distribution: [5000.]\n",
      "3 Class Distribution: [5000.]\n",
      "4 Class Distribution: [5000.]\n",
      "5 Class Distribution: [5000.]\n",
      "6 Class Distribution: [5000.]\n",
      "7 Class Distribution: [5000.]\n",
      "8 Class Distribution: [5000.]\n",
      "9 Class Distribution: [5000.]\n"
     ]
    }
   ],
   "source": [
    "# loss txt 기반으로 10등분\n",
    "for i in range(10):\n",
    "    # sample minibatch from unlabeled pool \n",
    "    sample = sort_index[i*batch_file_size:(i+1)*batch_file_size]\n",
    "    b = np.zeros(1)\n",
    "    for jj in sample:\n",
    "        b[0] +=1\n",
    "    print(f'{i} Class Distribution: {b}')\n",
    "    s = './loss_'+DATASET+'/batch_' + str(i) + '.txt'\n",
    "    for k in sample:\n",
    "        with open(s, 'a') as f:\n",
    "            f.write(name_2[k]+'\\n')"
   ]
  },
  {
   "cell_type": "code",
   "execution_count": null,
   "id": "964ef001-762c-4b68-8e9f-8c4fe5c6588c",
   "metadata": {},
   "outputs": [],
   "source": []
  }
 ],
 "metadata": {
  "kernelspec": {
   "display_name": "halp",
   "language": "python",
   "name": "halp"
  },
  "language_info": {
   "codemirror_mode": {
    "name": "ipython",
    "version": 3
   },
   "file_extension": ".py",
   "mimetype": "text/x-python",
   "name": "python",
   "nbconvert_exporter": "python",
   "pygments_lexer": "ipython3",
   "version": "3.7.0"
  }
 },
 "nbformat": 4,
 "nbformat_minor": 5
}
